{
  "nbformat": 4,
  "nbformat_minor": 0,
  "metadata": {
    "colab": {
      "provenance": [],
      "name": "Fabrica_de_Contos.ipynb"
    },
    "kernelspec": {
      "name": "python3",
      "display_name": "Python 3"
    },
    "language_info": {
      "name": "python"
    },
    "widgets": {
      "application/vnd.jupyter.widget-state+json": {
        "59914e43fc9e450285b1247f2281792f": {
          "model_module": "@jupyter-widgets/controls",
          "model_name": "DropdownModel",
          "model_module_version": "1.5.0",
          "state": {
            "_dom_classes": [],
            "_model_module": "@jupyter-widgets/controls",
            "_model_module_version": "1.5.0",
            "_model_name": "DropdownModel",
            "_options_labels": [
              "Aventura",
              "Fantasia",
              "Conto de Fadas",
              "Fábula",
              "Mistério"
            ],
            "_view_count": null,
            "_view_module": "@jupyter-widgets/controls",
            "_view_module_version": "1.5.0",
            "_view_name": "DropdownView",
            "description": "Tipo de História:",
            "description_tooltip": null,
            "disabled": false,
            "index": 0,
            "layout": "IPY_MODEL_501634618cc14282a7faaf50052fe731",
            "style": "IPY_MODEL_90770989610d4017aff3fdf73318487d"
          }
        },
        "501634618cc14282a7faaf50052fe731": {
          "model_module": "@jupyter-widgets/base",
          "model_name": "LayoutModel",
          "model_module_version": "1.2.0",
          "state": {
            "_model_module": "@jupyter-widgets/base",
            "_model_module_version": "1.2.0",
            "_model_name": "LayoutModel",
            "_view_count": null,
            "_view_module": "@jupyter-widgets/base",
            "_view_module_version": "1.2.0",
            "_view_name": "LayoutView",
            "align_content": null,
            "align_items": null,
            "align_self": null,
            "border": null,
            "bottom": null,
            "display": null,
            "flex": null,
            "flex_flow": null,
            "grid_area": null,
            "grid_auto_columns": null,
            "grid_auto_flow": null,
            "grid_auto_rows": null,
            "grid_column": null,
            "grid_gap": null,
            "grid_row": null,
            "grid_template_areas": null,
            "grid_template_columns": null,
            "grid_template_rows": null,
            "height": null,
            "justify_content": null,
            "justify_items": null,
            "left": null,
            "margin": null,
            "max_height": null,
            "max_width": null,
            "min_height": null,
            "min_width": null,
            "object_fit": null,
            "object_position": null,
            "order": null,
            "overflow": null,
            "overflow_x": null,
            "overflow_y": null,
            "padding": null,
            "right": null,
            "top": null,
            "visibility": null,
            "width": null
          }
        },
        "90770989610d4017aff3fdf73318487d": {
          "model_module": "@jupyter-widgets/controls",
          "model_name": "DescriptionStyleModel",
          "model_module_version": "1.5.0",
          "state": {
            "_model_module": "@jupyter-widgets/controls",
            "_model_module_version": "1.5.0",
            "_model_name": "DescriptionStyleModel",
            "_view_count": null,
            "_view_module": "@jupyter-widgets/base",
            "_view_module_version": "1.2.0",
            "_view_name": "StyleView",
            "description_width": ""
          }
        },
        "a60b16e464a14f638e81367de86b9bd0": {
          "model_module": "@jupyter-widgets/controls",
          "model_name": "DropdownModel",
          "model_module_version": "1.5.0",
          "state": {
            "_dom_classes": [],
            "_model_module": "@jupyter-widgets/controls",
            "_model_module_version": "1.5.0",
            "_model_name": "DropdownModel",
            "_options_labels": [
              "Um coelhinho esperto",
              "Uma princesa corajosa",
              "Um robô curioso",
              "Uma fada travessa",
              "Um dragão amigável"
            ],
            "_view_count": null,
            "_view_module": "@jupyter-widgets/controls",
            "_view_module_version": "1.5.0",
            "_view_name": "DropdownView",
            "description": "Personagem:",
            "description_tooltip": null,
            "disabled": false,
            "index": 0,
            "layout": "IPY_MODEL_db3a71ce41a343b9a01411d475777f77",
            "style": "IPY_MODEL_e9ae1f05ae3c4d3f810be7047778bfc3"
          }
        },
        "db3a71ce41a343b9a01411d475777f77": {
          "model_module": "@jupyter-widgets/base",
          "model_name": "LayoutModel",
          "model_module_version": "1.2.0",
          "state": {
            "_model_module": "@jupyter-widgets/base",
            "_model_module_version": "1.2.0",
            "_model_name": "LayoutModel",
            "_view_count": null,
            "_view_module": "@jupyter-widgets/base",
            "_view_module_version": "1.2.0",
            "_view_name": "LayoutView",
            "align_content": null,
            "align_items": null,
            "align_self": null,
            "border": null,
            "bottom": null,
            "display": null,
            "flex": null,
            "flex_flow": null,
            "grid_area": null,
            "grid_auto_columns": null,
            "grid_auto_flow": null,
            "grid_auto_rows": null,
            "grid_column": null,
            "grid_gap": null,
            "grid_row": null,
            "grid_template_areas": null,
            "grid_template_columns": null,
            "grid_template_rows": null,
            "height": null,
            "justify_content": null,
            "justify_items": null,
            "left": null,
            "margin": null,
            "max_height": null,
            "max_width": null,
            "min_height": null,
            "min_width": null,
            "object_fit": null,
            "object_position": null,
            "order": null,
            "overflow": null,
            "overflow_x": null,
            "overflow_y": null,
            "padding": null,
            "right": null,
            "top": null,
            "visibility": null,
            "width": null
          }
        },
        "e9ae1f05ae3c4d3f810be7047778bfc3": {
          "model_module": "@jupyter-widgets/controls",
          "model_name": "DescriptionStyleModel",
          "model_module_version": "1.5.0",
          "state": {
            "_model_module": "@jupyter-widgets/controls",
            "_model_module_version": "1.5.0",
            "_model_name": "DescriptionStyleModel",
            "_view_count": null,
            "_view_module": "@jupyter-widgets/base",
            "_view_module_version": "1.2.0",
            "_view_name": "StyleView",
            "description_width": ""
          }
        },
        "f71179e46ea74a9bb99325b31502fd3f": {
          "model_module": "@jupyter-widgets/controls",
          "model_name": "DropdownModel",
          "model_module_version": "1.5.0",
          "state": {
            "_dom_classes": [],
            "_model_module": "@jupyter-widgets/controls",
            "_model_module_version": "1.5.0",
            "_model_name": "DropdownModel",
            "_options_labels": [
              "Uma floresta mágica",
              "Um castelo antigo",
              "Uma nave espacial",
              "Uma ilha deserta",
              "Uma cidade movimentada"
            ],
            "_view_count": null,
            "_view_module": "@jupyter-widgets/controls",
            "_view_module_version": "1.5.0",
            "_view_name": "DropdownView",
            "description": "Contexto:",
            "description_tooltip": null,
            "disabled": false,
            "index": 0,
            "layout": "IPY_MODEL_5fd0c18462dd4429960d098fe3d47618",
            "style": "IPY_MODEL_fb89c268d66e41fcb4beec4f9e7ff920"
          }
        },
        "5fd0c18462dd4429960d098fe3d47618": {
          "model_module": "@jupyter-widgets/base",
          "model_name": "LayoutModel",
          "model_module_version": "1.2.0",
          "state": {
            "_model_module": "@jupyter-widgets/base",
            "_model_module_version": "1.2.0",
            "_model_name": "LayoutModel",
            "_view_count": null,
            "_view_module": "@jupyter-widgets/base",
            "_view_module_version": "1.2.0",
            "_view_name": "LayoutView",
            "align_content": null,
            "align_items": null,
            "align_self": null,
            "border": null,
            "bottom": null,
            "display": null,
            "flex": null,
            "flex_flow": null,
            "grid_area": null,
            "grid_auto_columns": null,
            "grid_auto_flow": null,
            "grid_auto_rows": null,
            "grid_column": null,
            "grid_gap": null,
            "grid_row": null,
            "grid_template_areas": null,
            "grid_template_columns": null,
            "grid_template_rows": null,
            "height": null,
            "justify_content": null,
            "justify_items": null,
            "left": null,
            "margin": null,
            "max_height": null,
            "max_width": null,
            "min_height": null,
            "min_width": null,
            "object_fit": null,
            "object_position": null,
            "order": null,
            "overflow": null,
            "overflow_x": null,
            "overflow_y": null,
            "padding": null,
            "right": null,
            "top": null,
            "visibility": null,
            "width": null
          }
        },
        "fb89c268d66e41fcb4beec4f9e7ff920": {
          "model_module": "@jupyter-widgets/controls",
          "model_name": "DescriptionStyleModel",
          "model_module_version": "1.5.0",
          "state": {
            "_model_module": "@jupyter-widgets/controls",
            "_model_module_version": "1.5.0",
            "_model_name": "DescriptionStyleModel",
            "_view_count": null,
            "_view_module": "@jupyter-widgets/base",
            "_view_module_version": "1.2.0",
            "_view_name": "StyleView",
            "description_width": ""
          }
        },
        "2e67e071806e49d298d1d33e5a1a80bb": {
          "model_module": "@jupyter-widgets/controls",
          "model_name": "IntSliderModel",
          "model_module_version": "1.5.0",
          "state": {
            "_dom_classes": [],
            "_model_module": "@jupyter-widgets/controls",
            "_model_module_version": "1.5.0",
            "_model_name": "IntSliderModel",
            "_view_count": null,
            "_view_module": "@jupyter-widgets/controls",
            "_view_module_version": "1.5.0",
            "_view_name": "IntSliderView",
            "continuous_update": true,
            "description": "Tamanho (parágrafos):",
            "description_tooltip": null,
            "disabled": false,
            "layout": "IPY_MODEL_c9348992408a4863a4156d9c5bef2dba",
            "max": 5,
            "min": 1,
            "orientation": "horizontal",
            "readout": true,
            "readout_format": "d",
            "step": 1,
            "style": "IPY_MODEL_8aff7be06fad4ac48bcb3bf05e90b216",
            "value": 3
          }
        },
        "c9348992408a4863a4156d9c5bef2dba": {
          "model_module": "@jupyter-widgets/base",
          "model_name": "LayoutModel",
          "model_module_version": "1.2.0",
          "state": {
            "_model_module": "@jupyter-widgets/base",
            "_model_module_version": "1.2.0",
            "_model_name": "LayoutModel",
            "_view_count": null,
            "_view_module": "@jupyter-widgets/base",
            "_view_module_version": "1.2.0",
            "_view_name": "LayoutView",
            "align_content": null,
            "align_items": null,
            "align_self": null,
            "border": null,
            "bottom": null,
            "display": null,
            "flex": null,
            "flex_flow": null,
            "grid_area": null,
            "grid_auto_columns": null,
            "grid_auto_flow": null,
            "grid_auto_rows": null,
            "grid_column": null,
            "grid_gap": null,
            "grid_row": null,
            "grid_template_areas": null,
            "grid_template_columns": null,
            "grid_template_rows": null,
            "height": null,
            "justify_content": null,
            "justify_items": null,
            "left": null,
            "margin": null,
            "max_height": null,
            "max_width": null,
            "min_height": null,
            "min_width": null,
            "object_fit": null,
            "object_position": null,
            "order": null,
            "overflow": null,
            "overflow_x": null,
            "overflow_y": null,
            "padding": null,
            "right": null,
            "top": null,
            "visibility": null,
            "width": null
          }
        },
        "8aff7be06fad4ac48bcb3bf05e90b216": {
          "model_module": "@jupyter-widgets/controls",
          "model_name": "SliderStyleModel",
          "model_module_version": "1.5.0",
          "state": {
            "_model_module": "@jupyter-widgets/controls",
            "_model_module_version": "1.5.0",
            "_model_name": "SliderStyleModel",
            "_view_count": null,
            "_view_module": "@jupyter-widgets/base",
            "_view_module_version": "1.2.0",
            "_view_name": "StyleView",
            "description_width": "",
            "handle_color": null
          }
        },
        "80191fa163e842aca20bfd384d3bd922": {
          "model_module": "@jupyter-widgets/controls",
          "model_name": "DropdownModel",
          "model_module_version": "1.5.0",
          "state": {
            "_dom_classes": [],
            "_model_module": "@jupyter-widgets/controls",
            "_model_module_version": "1.5.0",
            "_model_name": "DropdownModel",
            "_options_labels": [
              "Divertido",
              "Emocionante",
              "Educativo",
              "Mágico",
              "Curioso"
            ],
            "_view_count": null,
            "_view_module": "@jupyter-widgets/controls",
            "_view_module_version": "1.5.0",
            "_view_name": "DropdownView",
            "description": "Tom:",
            "description_tooltip": null,
            "disabled": false,
            "index": 0,
            "layout": "IPY_MODEL_2b5e35352f3043e682a128cc88ea8254",
            "style": "IPY_MODEL_2697db5daf8c4debb43fce6fe0c793ba"
          }
        },
        "2b5e35352f3043e682a128cc88ea8254": {
          "model_module": "@jupyter-widgets/base",
          "model_name": "LayoutModel",
          "model_module_version": "1.2.0",
          "state": {
            "_model_module": "@jupyter-widgets/base",
            "_model_module_version": "1.2.0",
            "_model_name": "LayoutModel",
            "_view_count": null,
            "_view_module": "@jupyter-widgets/base",
            "_view_module_version": "1.2.0",
            "_view_name": "LayoutView",
            "align_content": null,
            "align_items": null,
            "align_self": null,
            "border": null,
            "bottom": null,
            "display": null,
            "flex": null,
            "flex_flow": null,
            "grid_area": null,
            "grid_auto_columns": null,
            "grid_auto_flow": null,
            "grid_auto_rows": null,
            "grid_column": null,
            "grid_gap": null,
            "grid_row": null,
            "grid_template_areas": null,
            "grid_template_columns": null,
            "grid_template_rows": null,
            "height": null,
            "justify_content": null,
            "justify_items": null,
            "left": null,
            "margin": null,
            "max_height": null,
            "max_width": null,
            "min_height": null,
            "min_width": null,
            "object_fit": null,
            "object_position": null,
            "order": null,
            "overflow": null,
            "overflow_x": null,
            "overflow_y": null,
            "padding": null,
            "right": null,
            "top": null,
            "visibility": null,
            "width": null
          }
        },
        "2697db5daf8c4debb43fce6fe0c793ba": {
          "model_module": "@jupyter-widgets/controls",
          "model_name": "DescriptionStyleModel",
          "model_module_version": "1.5.0",
          "state": {
            "_model_module": "@jupyter-widgets/controls",
            "_model_module_version": "1.5.0",
            "_model_name": "DescriptionStyleModel",
            "_view_count": null,
            "_view_module": "@jupyter-widgets/base",
            "_view_module_version": "1.2.0",
            "_view_name": "StyleView",
            "description_width": ""
          }
        },
        "27726dd764a74e66addd75dafef532cf": {
          "model_module": "@jupyter-widgets/controls",
          "model_name": "ButtonModel",
          "model_module_version": "1.5.0",
          "state": {
            "_dom_classes": [],
            "_model_module": "@jupyter-widgets/controls",
            "_model_module_version": "1.5.0",
            "_model_name": "ButtonModel",
            "_view_count": null,
            "_view_module": "@jupyter-widgets/controls",
            "_view_module_version": "1.5.0",
            "_view_name": "ButtonView",
            "button_style": "",
            "description": "Gerar História",
            "disabled": false,
            "icon": "",
            "layout": "IPY_MODEL_a66db7025e1b49fd9ea52ce1283c21de",
            "style": "IPY_MODEL_f247ab3a64064ab9b2bdffd221de21d7",
            "tooltip": ""
          }
        },
        "a66db7025e1b49fd9ea52ce1283c21de": {
          "model_module": "@jupyter-widgets/base",
          "model_name": "LayoutModel",
          "model_module_version": "1.2.0",
          "state": {
            "_model_module": "@jupyter-widgets/base",
            "_model_module_version": "1.2.0",
            "_model_name": "LayoutModel",
            "_view_count": null,
            "_view_module": "@jupyter-widgets/base",
            "_view_module_version": "1.2.0",
            "_view_name": "LayoutView",
            "align_content": null,
            "align_items": null,
            "align_self": null,
            "border": null,
            "bottom": null,
            "display": null,
            "flex": null,
            "flex_flow": null,
            "grid_area": null,
            "grid_auto_columns": null,
            "grid_auto_flow": null,
            "grid_auto_rows": null,
            "grid_column": null,
            "grid_gap": null,
            "grid_row": null,
            "grid_template_areas": null,
            "grid_template_columns": null,
            "grid_template_rows": null,
            "height": null,
            "justify_content": null,
            "justify_items": null,
            "left": null,
            "margin": null,
            "max_height": null,
            "max_width": null,
            "min_height": null,
            "min_width": null,
            "object_fit": null,
            "object_position": null,
            "order": null,
            "overflow": null,
            "overflow_x": null,
            "overflow_y": null,
            "padding": null,
            "right": null,
            "top": null,
            "visibility": null,
            "width": null
          }
        },
        "f247ab3a64064ab9b2bdffd221de21d7": {
          "model_module": "@jupyter-widgets/controls",
          "model_name": "ButtonStyleModel",
          "model_module_version": "1.5.0",
          "state": {
            "_model_module": "@jupyter-widgets/controls",
            "_model_module_version": "1.5.0",
            "_model_name": "ButtonStyleModel",
            "_view_count": null,
            "_view_module": "@jupyter-widgets/base",
            "_view_module_version": "1.2.0",
            "_view_name": "StyleView",
            "button_color": null,
            "font_weight": ""
          }
        },
        "e5ea655ff9904e5d8cb50986cb5ffc3e": {
          "model_module": "@jupyter-widgets/output",
          "model_name": "OutputModel",
          "model_module_version": "1.0.0",
          "state": {
            "_dom_classes": [],
            "_model_module": "@jupyter-widgets/output",
            "_model_module_version": "1.0.0",
            "_model_name": "OutputModel",
            "_view_count": null,
            "_view_module": "@jupyter-widgets/output",
            "_view_module_version": "1.0.0",
            "_view_name": "OutputView",
            "layout": "IPY_MODEL_ebfeb94db62a44a3a08a5bcde26ae3c3",
            "msg_id": "",
            "outputs": [
              {
                "output_type": "stream",
                "name": "stdout",
                "text": [
                  "Era uma vez, na Floresta Borbulhante, um coelhinho chamado Zezé. Zezé não era um coelho qualquer, ele tinha bigodes que brilhavam no escuro e uma ideia mirabolante por minuto! Um dia, Zezé ouviu um boato: a lendária Cenoura Gigante, tão grande que dava para fazer um tobogã, estava escondida no Pico do Morango, guardada por um esquilo rabugento chamado Rufino. Zezé, com seus tênis de cenoura (sim, ele amava cenoura!) e uma mochila cheia de bolinhos de mel, decidiu que precisava encontrar essa cenoura!\n",
                  "\n",
                  "Sua jornada começou com uma série de tropeços engraçados. Primeiro, ele tentou atravessar o Rio de Gelatina Pulante, mas acabou grudado e precisou da ajuda de uma família de patos risonhos para se soltar. Depois, se perdeu na Floresta dos Espelhos Malucos, onde viu mil Zezés fazendo caretas e pulando para todos os lados! Quase desistindo, ele encontrou uma Joaninha Falante chamada Juju, que o guiou por um atalho secreto através do Jardim das Flores Cantarolantes, onde as tulipas faziam serenatas desafinadas.\n",
                  "\n",
                  "Finalmente, Zezé chegou ao Pico do Morango, tremendo de frio e com a mochila quase vazia. Lá estava Rufino, o esquilo rabugento, cochilando em cima da Cenoura Gigante! Zezé, com um plano na cabeça, pegou o último bolinho de mel e o jogou longe. Rufino, guloso como só ele, correu atrás do bolinho, deixando a cenoura livre! Zezé, com um pulo ninja (aprendido com um sapo mestre Kung Fu), deslizou pela Cenoura Gigante, gritando de alegria! A aventura foi incrível e, mesmo sem levar a cenoura para casa, Zezé voltou para a Floresta Borbulhante com a melhor história para contar e um novo amigo, Rufino, que adorava bolinhos de mel.\n",
                  "\n"
                ]
              }
            ]
          }
        },
        "ebfeb94db62a44a3a08a5bcde26ae3c3": {
          "model_module": "@jupyter-widgets/base",
          "model_name": "LayoutModel",
          "model_module_version": "1.2.0",
          "state": {
            "_model_module": "@jupyter-widgets/base",
            "_model_module_version": "1.2.0",
            "_model_name": "LayoutModel",
            "_view_count": null,
            "_view_module": "@jupyter-widgets/base",
            "_view_module_version": "1.2.0",
            "_view_name": "LayoutView",
            "align_content": null,
            "align_items": null,
            "align_self": null,
            "border": null,
            "bottom": null,
            "display": null,
            "flex": null,
            "flex_flow": null,
            "grid_area": null,
            "grid_auto_columns": null,
            "grid_auto_flow": null,
            "grid_auto_rows": null,
            "grid_column": null,
            "grid_gap": null,
            "grid_row": null,
            "grid_template_areas": null,
            "grid_template_columns": null,
            "grid_template_rows": null,
            "height": null,
            "justify_content": null,
            "justify_items": null,
            "left": null,
            "margin": null,
            "max_height": null,
            "max_width": null,
            "min_height": null,
            "min_width": null,
            "object_fit": null,
            "object_position": null,
            "order": null,
            "overflow": null,
            "overflow_x": null,
            "overflow_y": null,
            "padding": null,
            "right": null,
            "top": null,
            "visibility": null,
            "width": null
          }
        }
      }
    }
  },
  "cells": [
    {
      "cell_type": "code",
      "source": [
        "# --- SEÇÃO 1: Importar as bibliotecas necessárias ---\n",
        "import os\n",
        "from google.colab import userdata\n",
        "import ipywidgets as widgets\n",
        "from IPython.display import display\n",
        "from google import genai\n",
        "from google.genai import types  # Import the types module\n",
        "import textwrap\n",
        "\n",
        "# --- Função auxiliar para exibir texto formatado em Markdown no Colab ---\n",
        "def to_markdown(text):\n",
        "    text = text.replace('•', '  *')\n",
        "    return Markdown(textwrap.indent(text, '> ', predicate=lambda _: True))\n",
        "\n",
        "# --- SEÇÃO 2: Configurar a chave de API ---\n",
        "os.environ[\"GOOGLE_API_KEY\"] = userdata.get('GOOGLE_API_KEY')\n",
        "\n",
        "# --- SEÇÃO 3: Definir as listas predefinidas ---\n",
        "tipos_historia = [\"Aventura\", \"Fantasia\", \"Conto de Fadas\", \"Fábula\", \"Mistério\"]\n",
        "personagens = [\"Um coelhinho esperto\", \"Uma princesa corajosa\", \"Um robô curioso\", \"Uma fada travessa\", \"Um dragão amigável\"]\n",
        "contextos = [\"Uma floresta mágica\", \"Um castelo antigo\", \"Uma nave espacial\", \"Uma ilha deserta\", \"Uma cidade movimentada\"]\n",
        "tons = [\"Divertido\", \"Emocionante\", \"Educativo\", \"Mágico\", \"Curioso\"]\n",
        "\n",
        "# --- SEÇÃO 4: Criar os widgets interativos para seleção ---\n",
        "tipo_historia_dropdown = widgets.Dropdown(options=tipos_historia, description=\"Tipo de História:\")\n",
        "personagem_dropdown = widgets.Dropdown(options=personagens, description=\"Personagem:\")\n",
        "contexto_dropdown = widgets.Dropdown(options=contextos, description=\"Contexto:\")\n",
        "tamanho_slider = widgets.IntSlider(min=1, max=5, step=1, value=3, description=\"Tamanho (parágrafos):\")\n",
        "tom_dropdown = widgets.Dropdown(options=tons, description=\"Tom:\")\n",
        "gerar_button = widgets.Button(description=\"Gerar História\")\n",
        "output_text = widgets.Output()\n",
        "\n",
        "MODEL_ID = \"gemini-2.0-flash\"\n",
        "\n",
        "# --- SEÇÃO 5: Definir a função para gerar a história usando google-genai ---\n",
        "def gerar_historia(button):\n",
        "    global MODEL_ID  # Indica que queremos usar a variável global MODEL_ID\n",
        "    with output_text:\n",
        "        output_text.clear_output()\n",
        "        tipo = tipo_historia_dropdown.value\n",
        "        personagem = personagem_dropdown.value\n",
        "        contexto = contexto_dropdown.value\n",
        "        tamanho = tamanho_slider.value\n",
        "        tom = tom_dropdown.value\n",
        "\n",
        "        prompt = f\"Crie uma história infantil com um tom {tom} sobre {personagem} que vive em {contexto} e passa por uma {tipo}. A história deve ter aproximadamente {tamanho} parágrafos.\"\n",
        "\n",
        "        try:\n",
        "            client = genai.Client(api_key=os.environ['GOOGLE_API_KEY'])\n",
        "            response = client.models.generate_content(\n",
        "                model=MODEL_ID,\n",
        "                contents=prompt,\n",
        "                config=types.GenerateContentConfig(\n",
        "                    max_output_tokens=tamanho * 200,\n",
        "                    temperature=0.7\n",
        "                )\n",
        "            )\n",
        "            historia = response.text\n",
        "            print(historia)\n",
        "        except Exception as e:\n",
        "            print(f\"Ocorreu um erro ao gerar a história: {e}\")\n",
        "\n",
        "# --- SEÇÃO 6: Associar a função ao clique do botão e exibir os widgets ---\n",
        "gerar_button.on_click(gerar_historia)\n",
        "\n",
        "display(tipo_historia_dropdown)\n",
        "display(personagem_dropdown)\n",
        "display(contexto_dropdown)\n",
        "display(tamanho_slider)\n",
        "display(tom_dropdown)\n",
        "display(gerar_button)\n",
        "display(output_text)\n"
      ],
      "metadata": {
        "id": "2lHyci7mt36f",
        "colab": {
          "base_uri": "https://localhost:8080/",
          "height": 461,
          "referenced_widgets": [
            "59914e43fc9e450285b1247f2281792f",
            "501634618cc14282a7faaf50052fe731",
            "90770989610d4017aff3fdf73318487d",
            "a60b16e464a14f638e81367de86b9bd0",
            "db3a71ce41a343b9a01411d475777f77",
            "e9ae1f05ae3c4d3f810be7047778bfc3",
            "f71179e46ea74a9bb99325b31502fd3f",
            "5fd0c18462dd4429960d098fe3d47618",
            "fb89c268d66e41fcb4beec4f9e7ff920",
            "2e67e071806e49d298d1d33e5a1a80bb",
            "c9348992408a4863a4156d9c5bef2dba",
            "8aff7be06fad4ac48bcb3bf05e90b216",
            "80191fa163e842aca20bfd384d3bd922",
            "2b5e35352f3043e682a128cc88ea8254",
            "2697db5daf8c4debb43fce6fe0c793ba",
            "27726dd764a74e66addd75dafef532cf",
            "a66db7025e1b49fd9ea52ce1283c21de",
            "f247ab3a64064ab9b2bdffd221de21d7",
            "e5ea655ff9904e5d8cb50986cb5ffc3e",
            "ebfeb94db62a44a3a08a5bcde26ae3c3"
          ]
        },
        "outputId": "f85fae1a-8187-4c14-838b-4c4f51d822cb"
      },
      "execution_count": 2,
      "outputs": [
        {
          "output_type": "display_data",
          "data": {
            "text/plain": [
              "Dropdown(description='Tipo de História:', options=('Aventura', 'Fantasia', 'Conto de Fadas', 'Fábula', 'Mistér…"
            ],
            "application/vnd.jupyter.widget-view+json": {
              "version_major": 2,
              "version_minor": 0,
              "model_id": "59914e43fc9e450285b1247f2281792f"
            }
          },
          "metadata": {}
        },
        {
          "output_type": "display_data",
          "data": {
            "text/plain": [
              "Dropdown(description='Personagem:', options=('Um coelhinho esperto', 'Uma princesa corajosa', 'Um robô curioso…"
            ],
            "application/vnd.jupyter.widget-view+json": {
              "version_major": 2,
              "version_minor": 0,
              "model_id": "a60b16e464a14f638e81367de86b9bd0"
            }
          },
          "metadata": {}
        },
        {
          "output_type": "display_data",
          "data": {
            "text/plain": [
              "Dropdown(description='Contexto:', options=('Uma floresta mágica', 'Um castelo antigo', 'Uma nave espacial', 'U…"
            ],
            "application/vnd.jupyter.widget-view+json": {
              "version_major": 2,
              "version_minor": 0,
              "model_id": "f71179e46ea74a9bb99325b31502fd3f"
            }
          },
          "metadata": {}
        },
        {
          "output_type": "display_data",
          "data": {
            "text/plain": [
              "IntSlider(value=3, description='Tamanho (parágrafos):', max=5, min=1)"
            ],
            "application/vnd.jupyter.widget-view+json": {
              "version_major": 2,
              "version_minor": 0,
              "model_id": "2e67e071806e49d298d1d33e5a1a80bb"
            }
          },
          "metadata": {}
        },
        {
          "output_type": "display_data",
          "data": {
            "text/plain": [
              "Dropdown(description='Tom:', options=('Divertido', 'Emocionante', 'Educativo', 'Mágico', 'Curioso'), value='Di…"
            ],
            "application/vnd.jupyter.widget-view+json": {
              "version_major": 2,
              "version_minor": 0,
              "model_id": "80191fa163e842aca20bfd384d3bd922"
            }
          },
          "metadata": {}
        },
        {
          "output_type": "display_data",
          "data": {
            "text/plain": [
              "Button(description='Gerar História', style=ButtonStyle())"
            ],
            "application/vnd.jupyter.widget-view+json": {
              "version_major": 2,
              "version_minor": 0,
              "model_id": "27726dd764a74e66addd75dafef532cf"
            }
          },
          "metadata": {}
        },
        {
          "output_type": "display_data",
          "data": {
            "text/plain": [
              "Output()"
            ],
            "application/vnd.jupyter.widget-view+json": {
              "version_major": 2,
              "version_minor": 0,
              "model_id": "e5ea655ff9904e5d8cb50986cb5ffc3e"
            }
          },
          "metadata": {}
        }
      ]
    }
  ]
}